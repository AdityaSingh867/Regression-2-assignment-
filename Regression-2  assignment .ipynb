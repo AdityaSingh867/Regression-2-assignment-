{
 "cells": [
  {
   "cell_type": "markdown",
   "id": "585782ea-885f-459b-adf4-5b98fe989695",
   "metadata": {},
   "source": [
    "Q1. Explain the concept of R-squared in linear regression models. How is it calculated, and what does it\n",
    "represent?"
   ]
  },
  {
   "cell_type": "markdown",
   "id": "c09f578e-150a-4853-bcb4-482c99facc48",
   "metadata": {},
   "source": [
    "a statistical measure in a regression model that determines the proportion of variance in the dependent variable that can be explained by the independent variable."
   ]
  },
  {
   "cell_type": "markdown",
   "id": "1e3ab926-a0da-4cee-a744-3839c1029c37",
   "metadata": {},
   "source": [
    "R 2 = 1 − sum squared regression (SSR)/ total sum of squares (SST) , = 1 − ∑ ( y i − y i ^ ) 2/ ∑ ( y i − y ¯ ) 2 "
   ]
  },
  {
   "cell_type": "markdown",
   "id": "a8978942-56e7-4886-9444-75a5a43d644c",
   "metadata": {},
   "source": [
    "Q2. Define adjusted R-squared and explain how it differs from the regular R-squared."
   ]
  },
  {
   "cell_type": "markdown",
   "id": "87bb4fb3-10c9-4f7f-ab3b-27d8286ea078",
   "metadata": {},
   "source": [
    "Adjusted R2 is a corrected goodness-of-fit (model accuracy) measure for linear models."
   ]
  },
  {
   "cell_type": "markdown",
   "id": "e04ba227-8c04-4820-9938-848315268089",
   "metadata": {},
   "source": [
    "adjusted R-squared considers and tests different independent variables against the model and R-squared does not."
   ]
  },
  {
   "cell_type": "markdown",
   "id": "9e54e421-1798-4f25-b7fe-d590b036d4b1",
   "metadata": {},
   "source": [
    "''NOTE'' - Accuracy of r2 is always greater than Adjusted r2. Because in r2 if any independent feature is avalible in dataset dose not depend is usefull or not for dataset , accuracy of modle is increasing in case of r2 , but in case of Adjusted r2 if any feature in dataset is not a use usefull feature for dataset so , Adjusted r2 reduce the accuracy of model.\n",
    "\n",
    "Adjusted r2 is better than r2. for checking the accuracy of model."
   ]
  },
  {
   "cell_type": "markdown",
   "id": "bc57a05a-f289-48ba-90fb-39cc16a79f60",
   "metadata": {},
   "source": [
    "Q3. When is it more appropriate to use adjusted R-squared?"
   ]
  },
  {
   "cell_type": "markdown",
   "id": "3f34b5d5-b7a7-4ced-8fa9-89878213ecef",
   "metadata": {},
   "source": [
    "when there are multiple variables in the regression model."
   ]
  },
  {
   "cell_type": "markdown",
   "id": "0334bcd3-0976-46b3-9f9d-444e67313b32",
   "metadata": {},
   "source": [
    "Q4. What are RMSE, MSE, and MAE in the context of regression analysis? How are these metrics\n",
    "calculated, and what do they represent?"
   ]
  },
  {
   "cell_type": "markdown",
   "id": "d2590b5c-11d1-48ac-a575-69ea9ef8fbef",
   "metadata": {},
   "source": [
    "- RMSE - Root Mean Rquared Error\n",
    "- MSE - Mean Squared Error\n",
    "- MAE - Mean Average Error"
   ]
  },
  {
   "cell_type": "markdown",
   "id": "3b43891d-ebeb-45e7-b796-103ebd64b2f5",
   "metadata": {},
   "source": [
    "- RMSE - Root of MSE\n",
    "- MSE - squaring the difference between the predicted value and actual value and averaging it across the dataset\n",
    "- MAE - the sum of absolute errors divided by the sample size"
   ]
  },
  {
   "cell_type": "markdown",
   "id": "e7af5186-0c93-4dfc-8455-a9932fed5d18",
   "metadata": {},
   "source": [
    "Q5. Discuss the advantages and disadvantages of using RMSE, MSE, and MAE as evaluation metrics in\n",
    "regression analysis."
   ]
  },
  {
   "cell_type": "markdown",
   "id": "ce2d8066-e694-4f60-a14d-a7cbc14e95f7",
   "metadata": {},
   "source": [
    "### ADVANTAGE\n",
    "#### MSE\n",
    "- It have only one local and global minima.\n",
    "- It is differentiable.\n",
    "### DISADVANTAGE\n",
    "- Not Robust to outliers.\n",
    "- It is not in same unit.\n",
    "### ADVANTAGE\n",
    "#### MAE\n",
    "- It will be in the same unit.\n",
    "- It is Robust to outliers.\n",
    "### DISADVANTAGE\n",
    "- converging usually take more time.\n",
    "### ADVANTAGE\n",
    "#### RMSE\n",
    "- It will be in the same unit.\n",
    "- It is differentiable.\n",
    "### DISADVANTAGE\n",
    "- Not Robust to outliers."
   ]
  },
  {
   "cell_type": "markdown",
   "id": "90e784ff-45e9-4a72-b9aa-8610bbe6e3f2",
   "metadata": {},
   "source": [
    "Q6. Explain the concept of Lasso regularization. How does it differ from Ridge regularization, and when is\n",
    "it more appropriate to use?"
   ]
  },
  {
   "cell_type": "markdown",
   "id": "db04a11c-736a-4b6b-a0c8-68f9a27776fe",
   "metadata": {},
   "source": [
    "Lasso regression is a regularization technique. It is used over regression methods for a more accurate prediction."
   ]
  },
  {
   "cell_type": "markdown",
   "id": "b62a327c-7b17-41b3-9d63-c02c42a7d1f4",
   "metadata": {},
   "source": [
    "How does it differ from Ridge regularization - lasso regression takes the magnitude of the coefficients, ridge regression takes the square."
   ]
  },
  {
   "cell_type": "markdown",
   "id": "65bebff4-5f60-43ce-81b2-c4aaad789149",
   "metadata": {},
   "source": [
    "when is it more appropriate to use - When you have a high dimensionality and high correlation in your dataset."
   ]
  },
  {
   "cell_type": "markdown",
   "id": "c3c03122-9b6d-4e72-b87f-11173408c89e",
   "metadata": {},
   "source": [
    "Q7. How do regularized linear models help to prevent overfitting in machine learning? Provide an\n",
    "example to illustrate."
   ]
  },
  {
   "cell_type": "markdown",
   "id": "befdc0f2-998c-4440-a932-e991d868916f",
   "metadata": {},
   "source": [
    "regularizing the parameters that constrain, regularizes, or shrinks the coefficient estimates towards zero."
   ]
  },
  {
   "cell_type": "markdown",
   "id": "dfe60bac-2454-4ae2-becf-70452efa5ae0",
   "metadata": {},
   "source": [
    "Q8. Discuss the limitations of regularized linear models and explain why they may not always be the best\n",
    "choice for regression analysis."
   ]
  },
  {
   "cell_type": "markdown",
   "id": "0166f888-bdac-4ce8-aca8-4bb525dd3d73",
   "metadata": {},
   "source": [
    "#### limitations\n",
    "- They include all the predictors in the final model.\n",
    "- They are unable to perform feature selection.\n",
    "- They shrink the coefficients towards zero.\n",
    "- They trade the variance for bias."
   ]
  },
  {
   "cell_type": "markdown",
   "id": "63a9c80d-b748-4391-aa7c-6aa2d891a674",
   "metadata": {},
   "source": [
    "regularized linear models are powerful tools for regression analysis, they may not always be the best choice depending on the characteristics of the data and the goals of the analysis."
   ]
  },
  {
   "cell_type": "markdown",
   "id": "49e852bd-0abc-45d3-a304-3665e5b40c19",
   "metadata": {},
   "source": [
    "Q9. You are comparing the performance of two regression models using different evaluation metrics.\n",
    "Model A has an RMSE of 10, while Model B has an MAE of 8. Which model would you choose as the better\n",
    "performer, and why? Are there any limitations to your choice of metric?"
   ]
  },
  {
   "cell_type": "markdown",
   "id": "8801f6ec-fa29-4b30-96b5-94dc4c428019",
   "metadata": {},
   "source": [
    "Model B has a lower MAE of 8, which indicates that on average, the predicted values of Model B are closer to the actual values than the predicted values of Model A. However, Model A has a lower RMSE of 10, which means that the errors in Model A's predictions tend to be smaller than those of Model B."
   ]
  },
  {
   "cell_type": "markdown",
   "id": "548d6d36-57ce-4d9e-bfd4-b946b43ee9c4",
   "metadata": {},
   "source": [
    "Q10. You are comparing the performance of two regularized linear models using different types of\n",
    "regularization. Model A uses Ridge regularization with a regularization parameter of 0.1, while Model B\n",
    "uses Lasso regularization with a regularization parameter of 0.5. Which model would you choose as the\n",
    "better performer, and why? Are there any trade-offs or limitations to your choice of regularization\n",
    "method?"
   ]
  },
  {
   "cell_type": "markdown",
   "id": "149512c4-3536-478e-a4cd-92e76faca8ee",
   "metadata": {},
   "source": [
    "Ridge regularization (Model A) uses the L2 norm of the model coefficients as the penalty term, which encourages the coefficients to be small but not exactly zero. This makes Ridge regression well-suited for scenarios where there are many potentially relevant features, and we want to include all of them in the model, but with reduced weights. Ridge regression tends to perform well when the signal-to-noise ratio is moderate and there is high multicollinearity among the features"
   ]
  },
  {
   "cell_type": "markdown",
   "id": "56cf5006-dc87-4fce-8179-c4a944f9adcf",
   "metadata": {},
   "source": [
    "Lasso regularization (Model B) uses the L1 norm of the model coefficients as the penalty term, which encourages sparsity in the coefficients, i.e., it drives some of the coefficients to exactly zero. This makes Lasso regression well-suited for scenarios where there are many potentially irrelevant features, and we want to select only the most important ones for the model. Lasso regression can also be used for feature selection. However, Lasso regularization can be more sensitive to outliers and is less effective when there is high multicollinearity among the features, as it may arbitrarily choose one among a set of highly correlated features to include in the model."
   ]
  },
  {
   "cell_type": "markdown",
   "id": "938cf8e4-d463-4a33-b5d5-fe0898991360",
   "metadata": {},
   "source": [
    "Lasso regularization is more appropriate compare with Ridge regularization."
   ]
  }
 ],
 "metadata": {
  "kernelspec": {
   "display_name": "Python 3 (ipykernel)",
   "language": "python",
   "name": "python3"
  },
  "language_info": {
   "codemirror_mode": {
    "name": "ipython",
    "version": 3
   },
   "file_extension": ".py",
   "mimetype": "text/x-python",
   "name": "python",
   "nbconvert_exporter": "python",
   "pygments_lexer": "ipython3",
   "version": "3.10.8"
  }
 },
 "nbformat": 4,
 "nbformat_minor": 5
}
